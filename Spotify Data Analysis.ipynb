{
  "cells": [
    {
      "cell_type": "code",
      "execution_count": null,
      "metadata": {},
      "outputs": [],
      "source": [
        "spark.conf.set(\n",
        "\"fs.azure.account.key.datastorageaccount1124.dfs.core.windows.net\",\n",
        "\"AccessKey\"\n",
        ")"
      ]
    },
    {
      "cell_type": "code",
      "execution_count": null,
      "metadata": {
        "jupyter": {
          "outputs_hidden": false,
          "source_hidden": false
        },
        "nteract": {
          "transient": {
            "deleting": false
          }
        }
      },
      "outputs": [],
      "source": [
        "from pyspark.sql import SparkSession\n",
        "from pyspark.sql.functions import *\n",
        "from pyspark.sql.types import *\n",
        "from pyspark.sql.window import Window\n",
        "\n",
        "spark = SparkSession.builder\\\n",
        "    .appName(\"Most streamed songs\")\\\n",
        "    .getOrCreate()\n",
        "\n",
        "spark"
      ]
    },
    {
      "cell_type": "code",
      "execution_count": null,
      "metadata": {
        "jupyter": {
          "outputs_hidden": false,
          "source_hidden": false
        },
        "nteract": {
          "transient": {
            "deleting": false
          }
        }
      },
      "outputs": [],
      "source": [
        "df = spark.read\\\n",
        "    .option(\"header\",True)\\\n",
        "    .option(\"inferSchema\",True)\\\n",
        "    .option(\"mode\",\"FAILFAST\")\\\n",
        "    .csv(\"abfss://datacontainer@datastorageaccount1124.dfs.core.windows.net/Most Streamed Spotify Songs 2024.csv\")\n",
        "\n",
        "df.printSchema()\n",
        "df.show(5)\n",
        "\n",
        "df.createOrReplaceTempView(\"mostStreamedSongsTable\")"
      ]
    },
    {
      "cell_type": "code",
      "execution_count": null,
      "metadata": {
        "jupyter": {
          "outputs_hidden": false,
          "source_hidden": false
        },
        "nteract": {
          "transient": {
            "deleting": false
          }
        }
      },
      "outputs": [],
      "source": [
        "#Changing the date format and filtering columns\n",
        "\n",
        "dateFormat = \"MM-dd-yyyy\"\n",
        "filterDF = df.select(\n",
        "    col(\"Artist\"),\n",
        "    col(\"Track\"),\n",
        "    col(\"Spotify Streams\"),\n",
        "    col(\"Spotify Popularity\"),\n",
        "    to_date(col(\"Release Date\"),dateFormat).alias(\"Release Date\"))\\\n",
        "    .where(col(\"Release Date\") > \"2024-01-01\")\\\n",
        "    .filter(col(\"Spotify Streams\").isNotNull())\\\n",
        "    .filter(col(\"Spotify Popularity\").isNotNull())\\\n",
        "    .orderBy(col(\"Release Date\").desc())\n",
        "\n",
        "filterDF.show()"
      ]
    },
    {
      "cell_type": "code",
      "execution_count": null,
      "metadata": {
        "jupyter": {
          "outputs_hidden": false,
          "source_hidden": false
        },
        "nteract": {
          "transient": {
            "deleting": false
          }
        }
      },
      "outputs": [],
      "source": [
        "yeardf = df.withColumn(\"Year\", year(col(\"Release Date\")))\n",
        "\n",
        "maxPopularityByYear = yeardf.groupBy(\"Year\")\\\n",
        "    .agg(max(col(\"Spotify Popularity\")).alias(\"Max Popularity\"))\\\n",
        "    .orderBy(col(\"Year\"))\n",
        "\n",
        "maxPopularityByYear.show()"
      ]
    },
    {
      "cell_type": "code",
      "execution_count": null,
      "metadata": {
        "jupyter": {
          "outputs_hidden": false,
          "source_hidden": false
        },
        "nteract": {
          "transient": {
            "deleting": false
          }
        }
      },
      "outputs": [],
      "source": [
        "#Grouping the Artist based on popularity\n",
        "\n",
        "popularityDF = filterDF.groupBy(\"Artist\")\\\n",
        "    .agg(max(\"Spotify Popularity\").alias(\"Maximum Popularity Based on Artist\"))\\\n",
        "    .orderBy(col(\"Maximum Popularity Based on Artist\").desc())\n",
        "popularityDF.show()"
      ]
    },
    {
      "cell_type": "code",
      "execution_count": null,
      "metadata": {
        "jupyter": {
          "outputs_hidden": false,
          "source_hidden": false
        },
        "nteract": {
          "transient": {
            "deleting": false
          }
        }
      },
      "outputs": [],
      "source": [
        "# Define a window specification to rank by maximum popularity\n",
        "windowSpec = Window\\\n",
        "    .orderBy(col(\"Maximum Popularity Based on Artist\").desc())\n",
        "\n",
        "# Add a rank column based on maximum popularity\n",
        "rankedPopularityDF = popularityDF\\\n",
        "    .withColumn(\"Rank\", dense_rank().over(windowSpec))\n",
        "print(\"Ranking Artist based on Spotify popularity based on current year:\\n\")\n",
        "rankedPopularityDF.show()"
      ]
    },
    {
      "cell_type": "code",
      "execution_count": null,
      "metadata": {
        "jupyter": {
          "outputs_hidden": false,
          "source_hidden": false
        },
        "nteract": {
          "transient": {
            "deleting": false
          }
        }
      },
      "outputs": [],
      "source": [
        "output_path = \"abfss://outputcontainer@datastorageaccount1124.dfs.core.windows.net/filtered.csv\"\n",
        "output_path1 = \"abfss://outputcontainer@datastorageaccount1124.dfs.core.windows.net/popularity.csv\"\n",
        "output_path2 = \"abfss://outputcontainer@datastorageaccount1124.dfs.core.windows.net/rankedPopularity.csv\"\n",
        "output_path3 = \"abfss://outputcontainer@datastorageaccount1124.dfs.core.windows.net/maxPopularityByYear.csv\"\n",
        "\n",
        "filterDF.write\\\n",
        "    .csv(output_path, mode=\"overwrite\")\n",
        "\n",
        "popularityDF.write\\\n",
        "    .csv(output_path1,mode=\"overwrite\")\n",
        "\n",
        "rankedPopularityDF.write\\\n",
        "    .csv(output_path2,mode=\"overwrite\")\n",
        "\n",
        "maxPopularityByYear.write\\\n",
        "    .csv(output_path3,mode=\"overwrite\")"
      ]
    }
  ],
  "metadata": {
    "kernelspec": {
      "display_name": "python",
      "name": "synapse_pyspark"
    },
    "language_info": {
      "name": "python"
    },
    "save_output": true,
    "synapse_widget": {
      "state": {},
      "version": "0.1"
    }
  },
  "nbformat": 4,
  "nbformat_minor": 2
}
